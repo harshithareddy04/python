{
  "nbformat": 4,
  "nbformat_minor": 0,
  "metadata": {
    "colab": {
      "name": "26-12-19.ipynb",
      "provenance": [],
      "include_colab_link": true
    },
    "kernelspec": {
      "name": "python3",
      "display_name": "Python 3"
    }
  },
  "cells": [
    {
      "cell_type": "markdown",
      "metadata": {
        "id": "view-in-github",
        "colab_type": "text"
      },
      "source": [
        "<a href=\"https://colab.research.google.com/github/harshithareddy04/python/blob/master/26_12_19.ipynb\" target=\"_parent\"><img src=\"https://colab.research.google.com/assets/colab-badge.svg\" alt=\"Open In Colab\"/></a>"
      ]
    },
    {
      "cell_type": "code",
      "metadata": {
        "id": "KMb38dSEXE3a",
        "colab_type": "code",
        "colab": {}
      },
      "source": [
        ""
      ],
      "execution_count": 0,
      "outputs": []
    },
    {
      "cell_type": "markdown",
      "metadata": {
        "id": "FYDVOmVCXMpS",
        "colab_type": "text"
      },
      "source": [
        ""
      ]
    },
    {
      "cell_type": "code",
      "metadata": {
        "id": "a9xOA1dSXNMx",
        "colab_type": "code",
        "colab": {
          "base_uri": "https://localhost:8080/",
          "height": 85
        },
        "outputId": "1a56c6d0-036e-45cc-801b-c40f1d6b4d92"
      },
      "source": [
        "#find large number from given 3 numbers\n",
        "a=int(input(\"enter a value\"))\n",
        "b=int(input(\"enter b value\"))\n",
        "c=int(input(\"enter c value\"))\n",
        "if a>b and a>c:\n",
        "    print(\"a is greater\")\n",
        "elif b>a and b>c:\n",
        "    print(\"b is greater\")\n",
        "else:\n",
        "    print(\"c is greater\")"
      ],
      "execution_count": 5,
      "outputs": [
        {
          "output_type": "stream",
          "text": [
            "enter a value2\n",
            "enter b value3\n",
            "enter c value9\n",
            "c is greater\n"
          ],
          "name": "stdout"
        }
      ]
    },
    {
      "cell_type": "code",
      "metadata": {
        "id": "gsK_4F6UYo5Z",
        "colab_type": "code",
        "colab": {}
      },
      "source": [
        ""
      ],
      "execution_count": 0,
      "outputs": []
    },
    {
      "cell_type": "markdown",
      "metadata": {
        "id": "fGKOGTLWaAAi",
        "colab_type": "text"
      },
      "source": [
        "#while statements\n",
        "###syntax:\n",
        "#####while boolean_condition:<br>\n",
        "             statement<br>\n",
        "             increment/decrement <br>"
      ]
    },
    {
      "cell_type": "code",
      "metadata": {
        "id": "OFt7b2sJaXRy",
        "colab_type": "code",
        "colab": {}
      },
      "source": [
        ""
      ],
      "execution_count": 0,
      "outputs": []
    },
    {
      "cell_type": "code",
      "metadata": {
        "id": "6FZixm1cbjiJ",
        "colab_type": "code",
        "colab": {
          "base_uri": "https://localhost:8080/",
          "height": 102
        },
        "outputId": "318cf167-3f6c-4677-f3d0-0200491205af"
      },
      "source": [
        "x=0\n",
        "while x<5:\n",
        "  print(\"GITAM\")\n",
        "  x=x+1"
      ],
      "execution_count": 6,
      "outputs": [
        {
          "output_type": "stream",
          "text": [
            "GITAM\n",
            "GITAM\n",
            "GITAM\n",
            "GITAM\n",
            "GITAM\n"
          ],
          "name": "stdout"
        }
      ]
    },
    {
      "cell_type": "code",
      "metadata": {
        "id": "bTgXCQSjbtlz",
        "colab_type": "code",
        "colab": {
          "base_uri": "https://localhost:8080/",
          "height": 51
        },
        "outputId": "09ec441c-4f24-4eb6-c424-da43629fa58d"
      },
      "source": [
        "#print n natural numbers using while loop\n",
        "#input:10\n",
        "#output:1 2 3 4 5 6 7 8 9 10\n",
        "n=int(input(\"enter a number\"))\n",
        "i=1\n",
        "while i<=n:\n",
        "   print(i,end=\" \")\n",
        "   i=i+1"
      ],
      "execution_count": 22,
      "outputs": [
        {
          "output_type": "stream",
          "text": [
            "enter a number10\n",
            "1 2 3 4 5 6 7 8 9 10 "
          ],
          "name": "stdout"
        }
      ]
    },
    {
      "cell_type": "code",
      "metadata": {
        "id": "MQYapyX6dSQq",
        "colab_type": "code",
        "colab": {
          "base_uri": "https://localhost:8080/",
          "height": 51
        },
        "outputId": "38674df5-00b9-4368-caf6-828f676a4bdc"
      },
      "source": [
        "#add only even number 1 to n\n",
        "#input:10\n",
        "#output:30(2+4+6+8+10)\n",
        "a=int(input(\"enter a value\"))\n",
        "i=1\n",
        "sum=0\n",
        "while i<=a:\n",
        "  if i%2==0:\n",
        "    sum=sum+i\n",
        "  i=i+1\n",
        "print(sum,end=\" \")"
      ],
      "execution_count": 29,
      "outputs": [
        {
          "output_type": "stream",
          "text": [
            "enter a value10\n",
            "30 "
          ],
          "name": "stdout"
        }
      ]
    },
    {
      "cell_type": "code",
      "metadata": {
        "id": "WjMKItBCgz_Y",
        "colab_type": "code",
        "colab": {}
      },
      "source": [
        ""
      ],
      "execution_count": 0,
      "outputs": []
    },
    {
      "cell_type": "code",
      "metadata": {
        "id": "sx1H0Ckijj5y",
        "colab_type": "code",
        "colab": {
          "base_uri": "https://localhost:8080/",
          "height": 51
        },
        "outputId": "986446d2-222c-4670-c845-2a4ecc110810"
      },
      "source": [
        "#input:123\n",
        "#output:321\n",
        "n=int(input(\"enter n value\"))\n",
        "while n!=0:\n",
        "  r=n%10\n",
        "  print(r,end=\" \")\n",
        "  n=n//10"
      ],
      "execution_count": 31,
      "outputs": [
        {
          "output_type": "stream",
          "text": [
            "enter n value123\n",
            "3 2 1 "
          ],
          "name": "stdout"
        }
      ]
    },
    {
      "cell_type": "code",
      "metadata": {
        "id": "k35-hSAnjj4E",
        "colab_type": "code",
        "colab": {}
      },
      "source": [
        "\n"
      ],
      "execution_count": 0,
      "outputs": []
    },
    {
      "cell_type": "markdown",
      "metadata": {
        "id": "UooUZYWkk90q",
        "colab_type": "text"
      },
      "source": [
        "#functional programming\n",
        "- simple\n",
        "- easy read\n",
        "- lengthy program divides into sub programs\n"
      ]
    },
    {
      "cell_type": "markdown",
      "metadata": {
        "id": "8XH4kYswmDiq",
        "colab_type": "text"
      },
      "source": [
        "##syntax:"
      ]
    },
    {
      "cell_type": "code",
      "metadata": {
        "id": "sG3uRN_hmHdn",
        "colab_type": "code",
        "colab": {}
      },
      "source": [
        "def nameofthefunction(<parameters>)\n",
        "    statements\n",
        "    return"
      ],
      "execution_count": 0,
      "outputs": []
    },
    {
      "cell_type": "code",
      "metadata": {
        "id": "F0vpS2ldm2nh",
        "colab_type": "code",
        "colab": {}
      },
      "source": [
        ""
      ],
      "execution_count": 0,
      "outputs": []
    },
    {
      "cell_type": "code",
      "metadata": {
        "id": "InA8Q9pnnHpS",
        "colab_type": "code",
        "colab": {
          "base_uri": "https://localhost:8080/",
          "height": 34
        },
        "outputId": "13955717-c809-4916-8eab-4a082a73fbc0"
      },
      "source": [
        "#input:1234\n",
        "#output:6(2+4)\n",
        "def addevendigit(n):\n",
        "  sum=0\n",
        "  while n!=0:\n",
        "      r = n%10\n",
        "      if  r %2==0:\n",
        "           sum=sum+r\n",
        "      n=n//10\n",
        "  return sum\n",
        "addevendigit(1234)       "
      ],
      "execution_count": 36,
      "outputs": [
        {
          "output_type": "execute_result",
          "data": {
            "text/plain": [
              "6"
            ]
          },
          "metadata": {
            "tags": []
          },
          "execution_count": 36
        }
      ]
    },
    {
      "cell_type": "code",
      "metadata": {
        "id": "aoidQpffnpfH",
        "colab_type": "code",
        "colab": {
          "base_uri": "https://localhost:8080/",
          "height": 34
        },
        "outputId": "5de0c488-efc9-4c08-8897-1d9b8f83a721"
      },
      "source": [
        "#read input \n",
        "#input: 19528\n",
        "#output:9\n",
        "def greaternumber(n):\n",
        "  large=0\n",
        "  while n!=0:\n",
        "    r = n%10\n",
        "    if r>large:\n",
        "      large=r\n",
        "    n=n//10\n",
        "  return large\n",
        "greaternumber(19528)    "
      ],
      "execution_count": 40,
      "outputs": [
        {
          "output_type": "execute_result",
          "data": {
            "text/plain": [
              "9"
            ]
          },
          "metadata": {
            "tags": []
          },
          "execution_count": 40
        }
      ]
    },
    {
      "cell_type": "code",
      "metadata": {
        "id": "JX6Q_tDqqNp6",
        "colab_type": "code",
        "colab": {
          "base_uri": "https://localhost:8080/",
          "height": 34
        },
        "outputId": "7b08d9f1-3d20-46b7-a9b8-43a140b568da"
      },
      "source": [
        "#input:123\n",
        "#output:321\n",
        "def revnumber(n):\n",
        "  while n!=0:\n",
        "    r=n%10\n",
        "    print(r,end=\" \")\n",
        "    n=n//10\n",
        "revnumber(123)\n"
      ],
      "execution_count": 43,
      "outputs": [
        {
          "output_type": "stream",
          "text": [
            "3 2 1 "
          ],
          "name": "stdout"
        }
      ]
    },
    {
      "cell_type": "code",
      "metadata": {
        "id": "JostmBpsrz7K",
        "colab_type": "code",
        "colab": {
          "base_uri": "https://localhost:8080/",
          "height": 51
        },
        "outputId": "ef6e3cff-740c-4ae3-c639-2b3830fbcd60"
      },
      "source": [
        "#check that given number is palindrome or not\n",
        "#input:121-----121------yes\n",
        "#input:123----321------no\n",
        "def palin(n):\n",
        "  rev=0\n",
        "  buffer=n\n",
        "  while n!=0:\n",
        "    r= n%10\n",
        "    rev=rev*10+r\n",
        "    n=n//10\n",
        "  if buffer==rev:\n",
        "      return \"yes\"\n",
        "  else:\n",
        "      return \"no\"\n",
        "print(palin(121))\n",
        "print(palin(123))"
      ],
      "execution_count": 50,
      "outputs": [
        {
          "output_type": "stream",
          "text": [
            "yes\n",
            "no\n"
          ],
          "name": "stdout"
        }
      ]
    },
    {
      "cell_type": "code",
      "metadata": {
        "id": "P42egCAzyeKY",
        "colab_type": "code",
        "colab": {
          "base_uri": "https://localhost:8080/",
          "height": 34
        },
        "outputId": "52299542-63af-42b3-95dd-74a9f4c3d742"
      },
      "source": [
        "#function to print n natural numbers\n",
        "def natural(n):\n",
        "    for i in range(1,n+1):\n",
        "        print(i,end=\" \")\n",
        "natural(10)        \n",
        "\n"
      ],
      "execution_count": 56,
      "outputs": [
        {
          "output_type": "stream",
          "text": [
            "1 2 3 4 5 6 7 8 9 10 "
          ],
          "name": "stdout"
        }
      ]
    },
    {
      "cell_type": "code",
      "metadata": {
        "id": "-PHDxJHN03k9",
        "colab_type": "code",
        "colab": {
          "base_uri": "https://localhost:8080/",
          "height": 34
        },
        "outputId": "24f160ca-2a1a-4bec-91d2-caeb75216885"
      },
      "source": [
        "#input(11,15)\n",
        "#output:11 12 13 14 15\n",
        "def natural(l,n):\n",
        "    for i in range(l,n+1):\n",
        "        print(i,end=\" \")\n",
        "natural(11,15)    "
      ],
      "execution_count": 60,
      "outputs": [
        {
          "output_type": "stream",
          "text": [
            "11 12 13 14 15 "
          ],
          "name": "stdout"
        }
      ]
    },
    {
      "cell_type": "code",
      "metadata": {
        "id": "a751F9q-118C",
        "colab_type": "code",
        "colab": {
          "base_uri": "https://localhost:8080/",
          "height": 34
        },
        "outputId": "68678a0d-c80f-4106-edee-c1913c6fa179"
      },
      "source": [
        "#input(1,10)\n",
        "#output:1,4,7,10\n",
        "def natural(l,n):\n",
        "    for i in range(l,n+1,3):\n",
        "        print(i,end=\" \")\n",
        "natural(1,10)    \n"
      ],
      "execution_count": 62,
      "outputs": [
        {
          "output_type": "stream",
          "text": [
            "1 4 7 10 "
          ],
          "name": "stdout"
        }
      ]
    },
    {
      "cell_type": "code",
      "metadata": {
        "id": "xkKOko0A27J3",
        "colab_type": "code",
        "colab": {
          "base_uri": "https://localhost:8080/",
          "height": 34
        },
        "outputId": "8c36cf14-8d7e-4ed9-9e11-ce29384f6462"
      },
      "source": [
        "#using function\n",
        "#iinput: 1,10\n",
        "#output:10 9 8 7 6 5 4 3 2 1\n",
        "def revrange(start,end):\n",
        "    for i in range(end,start-1,-1):\n",
        "        print(i,end=\" \")\n",
        "revrange(1,10)"
      ],
      "execution_count": 67,
      "outputs": [
        {
          "output_type": "stream",
          "text": [
            "10 9 8 7 6 5 4 3 2 1 "
          ],
          "name": "stdout"
        }
      ]
    },
    {
      "cell_type": "code",
      "metadata": {
        "id": "-PQqoaHV4gF7",
        "colab_type": "code",
        "colab": {}
      },
      "source": [
        ""
      ],
      "execution_count": 0,
      "outputs": []
    },
    {
      "cell_type": "markdown",
      "metadata": {
        "id": "HOF3lYx355rz",
        "colab_type": "text"
      },
      "source": [
        "#data structure types\n",
        "- list\n",
        "- tuple\n",
        "- dictionary"
      ]
    },
    {
      "cell_type": "code",
      "metadata": {
        "id": "xJYWlmJO6FB5",
        "colab_type": "code",
        "colab": {}
      },
      "source": [
        ""
      ],
      "execution_count": 0,
      "outputs": []
    },
    {
      "cell_type": "markdown",
      "metadata": {
        "id": "UIm0I86V6Ntb",
        "colab_type": "text"
      },
      "source": [
        "#list\n",
        "- list is one of the data structure in python,the items are seperated by comma(,) and enclosed by square brackets [ ]\n",
        "- crud operations\n",
        "* c- create\n",
        "* r-read\n",
        "* u-update\n",
        "* d-delete\n",
        "- list can be changed or mutable\n",
        "- +ve index starts with 0,1,2,3\n",
        "- -ve index starts with -3,-2,-1\n",
        "###example:\n",
        "- list=[1,2,3,4]"
      ]
    },
    {
      "cell_type": "code",
      "metadata": {
        "id": "yBr4-K6c9cCD",
        "colab_type": "code",
        "colab": {
          "base_uri": "https://localhost:8080/",
          "height": 68
        },
        "outputId": "534619e4-729b-4469-fad8-e3e3889bc091"
      },
      "source": [
        "li=[1,2,3,4,5]\n",
        "print(li)\n",
        "print(li[0])\n",
        "print(li[-1])"
      ],
      "execution_count": 68,
      "outputs": [
        {
          "output_type": "stream",
          "text": [
            "[1, 2, 3, 4, 5]\n",
            "1\n",
            "5\n"
          ],
          "name": "stdout"
        }
      ]
    },
    {
      "cell_type": "code",
      "metadata": {
        "id": "eS17evy8916Q",
        "colab_type": "code",
        "colab": {}
      },
      "source": [
        ""
      ],
      "execution_count": 0,
      "outputs": []
    }
  ]
}