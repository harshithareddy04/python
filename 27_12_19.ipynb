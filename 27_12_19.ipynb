{
  "nbformat": 4,
  "nbformat_minor": 0,
  "metadata": {
    "colab": {
      "name": "27-12-19.ipynb",
      "provenance": [],
      "include_colab_link": true
    },
    "kernelspec": {
      "name": "python3",
      "display_name": "Python 3"
    }
  },
  "cells": [
    {
      "cell_type": "markdown",
      "metadata": {
        "id": "view-in-github",
        "colab_type": "text"
      },
      "source": [
        "<a href=\"https://colab.research.google.com/github/harshithareddy04/python/blob/master/27_12_19.ipynb\" target=\"_parent\"><img src=\"https://colab.research.google.com/assets/colab-badge.svg\" alt=\"Open In Colab\"/></a>"
      ]
    },
    {
      "cell_type": "code",
      "metadata": {
        "id": "IMQpSKWgd-wL",
        "colab_type": "code",
        "colab": {}
      },
      "source": [
        ""
      ],
      "execution_count": 0,
      "outputs": []
    },
    {
      "cell_type": "markdown",
      "metadata": {
        "id": "Pbj6Zk8neTnF",
        "colab_type": "text"
      },
      "source": [
        "#example list"
      ]
    },
    {
      "cell_type": "code",
      "metadata": {
        "id": "Ft40CeaPeWZ3",
        "colab_type": "code",
        "colab": {}
      },
      "source": [
        ""
      ],
      "execution_count": 0,
      "outputs": []
    },
    {
      "cell_type": "code",
      "metadata": {
        "id": "zF9nQj6MeXGr",
        "colab_type": "code",
        "colab": {
          "base_uri": "https://localhost:8080/",
          "height": 153
        },
        "outputId": "3e655aeb-93e4-427d-f2ae-cc43c8f22bb1"
      },
      "source": [
        "li=[\"gitam\",123,124,1323,1323,3451]\n",
        "print(li)\n",
        "print(li[1])\n",
        "print(li[2:])\n",
        "print(li[2:4])\n",
        "print(li[-1])\n",
        "print(li[-4:-1])\n",
        "print(li[::-1])\n",
        "print(li[-1::-1])"
      ],
      "execution_count": 23,
      "outputs": [
        {
          "output_type": "stream",
          "text": [
            "['gitam', 123, 124, 1323, 1323, 3451]\n",
            "123\n",
            "[124, 1323, 1323, 3451]\n",
            "[124, 1323]\n",
            "3451\n",
            "[124, 1323, 1323]\n",
            "[3451, 1323, 1323, 124, 123, 'gitam']\n",
            "[3451, 1323, 1323, 124, 123, 'gitam']\n"
          ],
          "name": "stdout"
        }
      ]
    },
    {
      "cell_type": "code",
      "metadata": {
        "id": "kNNmIDX9eXEd",
        "colab_type": "code",
        "colab": {
          "base_uri": "https://localhost:8080/",
          "height": 34
        },
        "outputId": "38bcafa5-9360-4c27-f8ce-fdef11898a10"
      },
      "source": [
        "#update\n",
        "li[0]=\"ajay\"\n",
        "print(li)"
      ],
      "execution_count": 2,
      "outputs": [
        {
          "output_type": "stream",
          "text": [
            "['ajay', 123, 124, 1323, 1323, 3451]\n"
          ],
          "name": "stdout"
        }
      ]
    },
    {
      "cell_type": "code",
      "metadata": {
        "id": "Eo0A0f-UfAtm",
        "colab_type": "code",
        "colab": {
          "base_uri": "https://localhost:8080/",
          "height": 34
        },
        "outputId": "de08e5a2-eb95-4156-a580-f1cac3b70796"
      },
      "source": [
        "#delete\n",
        "del li[3]\n",
        "print(li)"
      ],
      "execution_count": 4,
      "outputs": [
        {
          "output_type": "stream",
          "text": [
            "['ajay', 123, 124, 1323, 3451]\n"
          ],
          "name": "stdout"
        }
      ]
    },
    {
      "cell_type": "code",
      "metadata": {
        "id": "2O432ufafZ-2",
        "colab_type": "code",
        "colab": {
          "base_uri": "https://localhost:8080/",
          "height": 34
        },
        "outputId": "864c4d26-bb6b-4e18-e460-6a209866f6c7"
      },
      "source": [
        "li=[1,2,34,56,78]\n",
        "print(len(li))"
      ],
      "execution_count": 5,
      "outputs": [
        {
          "output_type": "stream",
          "text": [
            "5\n"
          ],
          "name": "stdout"
        }
      ]
    },
    {
      "cell_type": "code",
      "metadata": {
        "id": "JHiccPTnhEnl",
        "colab_type": "code",
        "colab": {
          "base_uri": "https://localhost:8080/",
          "height": 85
        },
        "outputId": "e04d8ced-d123-4730-da91-667d2e892c63"
      },
      "source": [
        "li=[1,23,45,67,89]\n",
        "print(len(li))\n",
        "print(li*2)\n",
        "print(5 in li)\n",
        "print(1 in li)"
      ],
      "execution_count": 7,
      "outputs": [
        {
          "output_type": "stream",
          "text": [
            "5\n",
            "[1, 23, 45, 67, 89, 1, 23, 45, 67, 89]\n",
            "False\n",
            "True\n"
          ],
          "name": "stdout"
        }
      ]
    },
    {
      "cell_type": "code",
      "metadata": {
        "id": "SlQXY2GXhdTv",
        "colab_type": "code",
        "colab": {}
      },
      "source": [
        ""
      ],
      "execution_count": 0,
      "outputs": []
    },
    {
      "cell_type": "markdown",
      "metadata": {
        "id": "b49WRUGDht8N",
        "colab_type": "text"
      },
      "source": [
        "#basic list functions"
      ]
    },
    {
      "cell_type": "code",
      "metadata": {
        "id": "bQ5EWg5PhyP2",
        "colab_type": "code",
        "colab": {}
      },
      "source": [
        ""
      ],
      "execution_count": 0,
      "outputs": []
    },
    {
      "cell_type": "code",
      "metadata": {
        "id": "0HTCcW7LhzC5",
        "colab_type": "code",
        "colab": {
          "base_uri": "https://localhost:8080/",
          "height": 85
        },
        "outputId": "fbb98113-7871-49d0-ff06-d244705c97dd"
      },
      "source": [
        "li=[1,2,3,4,5]\n",
        "print(max(li))\n",
        "print(min(li))\n",
        "print(sum(li))\n",
        "print(sum(li)/len(li))"
      ],
      "execution_count": 11,
      "outputs": [
        {
          "output_type": "stream",
          "text": [
            "5\n",
            "1\n",
            "15\n",
            "3.0\n"
          ],
          "name": "stdout"
        }
      ]
    },
    {
      "cell_type": "code",
      "metadata": {
        "id": "9foXkRazhzB9",
        "colab_type": "code",
        "colab": {
          "base_uri": "https://localhost:8080/",
          "height": 51
        },
        "outputId": "23d2a7e5-2773-4576-91f3-eb4c647e00cc"
      },
      "source": [
        "li=[1,2,3,4,5,6]\n",
        "li.append(29)# add new item at end of the list\n",
        "print(li)\n",
        "li.insert(2,56)#add new item at specific index\n",
        "print(li)"
      ],
      "execution_count": 15,
      "outputs": [
        {
          "output_type": "stream",
          "text": [
            "[1, 2, 3, 4, 5, 6, 29]\n",
            "[1, 2, 56, 3, 4, 5, 6, 29]\n"
          ],
          "name": "stdout"
        }
      ]
    },
    {
      "cell_type": "code",
      "metadata": {
        "id": "ty6XG1B1jo4J",
        "colab_type": "code",
        "colab": {
          "base_uri": "https://localhost:8080/",
          "height": 68
        },
        "outputId": "057134c8-a3f5-4022-9940-2a37306a3a50"
      },
      "source": [
        "li=[78,54,1,3,89,78]\n",
        "li.sort()#sort list in ascending order\n",
        "print(li)\n",
        "li.pop()#last index will get deleted\n",
        "print(li)\n",
        "li.pop(3)\n",
        "print(li)"
      ],
      "execution_count": 17,
      "outputs": [
        {
          "output_type": "stream",
          "text": [
            "[1, 3, 54, 78, 78, 89]\n",
            "[1, 3, 54, 78, 78]\n",
            "[1, 3, 54, 78]\n"
          ],
          "name": "stdout"
        }
      ]
    },
    {
      "cell_type": "code",
      "metadata": {
        "id": "8A1gt6XOkQze",
        "colab_type": "code",
        "colab": {
          "base_uri": "https://localhost:8080/",
          "height": 51
        },
        "outputId": "98140843-c92b-4d23-ff34-e41623fe78e0"
      },
      "source": [
        "# function to return large number from list\n",
        "def largenumber(li):\n",
        "    li.sort()\n",
        "    return li[-1]\n",
        "def genericlarge(li,n):\n",
        "   li.sort()\n",
        "   return li[-n]\n",
        "li=[19,1,3,87,32,21,36]\n",
        "print(largenumber(li))\n",
        "print(genericlarge(li,3))      \n"
      ],
      "execution_count": 19,
      "outputs": [
        {
          "output_type": "stream",
          "text": [
            "87\n",
            "32\n"
          ],
          "name": "stdout"
        }
      ]
    },
    {
      "cell_type": "code",
      "metadata": {
        "id": "8WhVaN7EnppN",
        "colab_type": "code",
        "colab": {
          "base_uri": "https://localhost:8080/",
          "height": 51
        },
        "outputId": "4f511456-4422-4a2e-b738-20ea15a8da76"
      },
      "source": [
        "# function to return small number from list\n",
        "def smallnumber(li):\n",
        "    li.sort()\n",
        "    return li[0]\n",
        "def genericsmall(li,n):\n",
        "   li.sort()\n",
        "   return li[n-1]\n",
        "li=[19,1,3,87,32,21,36]\n",
        "print(smallnumber(li))\n",
        "print(genericsmall(li,3))      \n",
        "\n"
      ],
      "execution_count": 21,
      "outputs": [
        {
          "output_type": "stream",
          "text": [
            "1\n",
            "19\n"
          ],
          "name": "stdout"
        }
      ]
    },
    {
      "cell_type": "code",
      "metadata": {
        "id": "KQmA58OGoCd0",
        "colab_type": "code",
        "colab": {}
      },
      "source": [
        ""
      ],
      "execution_count": 0,
      "outputs": []
    },
    {
      "cell_type": "markdown",
      "metadata": {
        "id": "wZ87m898pgCT",
        "colab_type": "text"
      },
      "source": [
        "#tuples\n",
        "- values seperated by comma(,) and enclosed by parenthesis()\n",
        "- values cannot be changed i,e immutable\n",
        "#diference between list and tuple\n",
        "- list can be modified\n",
        "- list is used to access means modify, add, delete, update\n",
        "- tuple cannot be modified\n",
        "- use to access data only"
      ]
    },
    {
      "cell_type": "code",
      "metadata": {
        "id": "kRLPHPs7q2GW",
        "colab_type": "code",
        "colab": {}
      },
      "source": [
        ""
      ],
      "execution_count": 0,
      "outputs": []
    },
    {
      "cell_type": "code",
      "metadata": {
        "id": "qcVl7x8xq2It",
        "colab_type": "code",
        "colab": {
          "base_uri": "https://localhost:8080/",
          "height": 51
        },
        "outputId": "78423884-0b0e-4b95-f8f2-ab3d8062130e"
      },
      "source": [
        "t1=(1,2,3,4,5,6,7,8)\n",
        "print(t1)\n",
        "print(type(t1))\n"
      ],
      "execution_count": 22,
      "outputs": [
        {
          "output_type": "stream",
          "text": [
            "(1, 2, 3, 4, 5, 6, 7, 8)\n",
            "<class 'tuple'>\n"
          ],
          "name": "stdout"
        }
      ]
    },
    {
      "cell_type": "code",
      "metadata": {
        "id": "mPyoQYaHrYHP",
        "colab_type": "code",
        "colab": {}
      },
      "source": [
        ""
      ],
      "execution_count": 0,
      "outputs": []
    },
    {
      "cell_type": "markdown",
      "metadata": {
        "id": "TVS8eHUNt3Hw",
        "colab_type": "text"
      },
      "source": [
        "#Dictionaries:\n",
        "- it works on concept of set unique data\n",
        "- it contains keys and values\n",
        "- each key is seper ated from its values with colon(:)\n",
        "- each key and values seperated by comma (,)\n",
        "- it is enclosed by {}"
      ]
    },
    {
      "cell_type": "code",
      "metadata": {
        "id": "CJE7NFOtu_Yq",
        "colab_type": "code",
        "colab": {}
      },
      "source": [
        ""
      ],
      "execution_count": 0,
      "outputs": []
    },
    {
      "cell_type": "code",
      "metadata": {
        "id": "aZZlQ5AAvALo",
        "colab_type": "code",
        "colab": {
          "base_uri": "https://localhost:8080/",
          "height": 34
        },
        "outputId": "8613b0c4-beee-4776-bd09-d66652cae93f"
      },
      "source": [
        "d1={\"name\":\"gitam\",\"email\":\"gitam@gmail.com\",\"address\":\"hyderabad\"}\n",
        "print(d1)"
      ],
      "execution_count": 25,
      "outputs": [
        {
          "output_type": "stream",
          "text": [
            "{'name': 'gitam', 'email': 'gitam@gmail.com', 'address': 'hyderabad'}\n"
          ],
          "name": "stdout"
        }
      ]
    },
    {
      "cell_type": "code",
      "metadata": {
        "id": "2i8IB1G1vAJO",
        "colab_type": "code",
        "colab": {
          "base_uri": "https://localhost:8080/",
          "height": 34
        },
        "outputId": "a6eba033-841c-4ca6-855f-dc78b9083ae9"
      },
      "source": [
        "d1[\"name\"]"
      ],
      "execution_count": 26,
      "outputs": [
        {
          "output_type": "execute_result",
          "data": {
            "text/plain": [
              "'gitam'"
            ]
          },
          "metadata": {
            "tags": []
          },
          "execution_count": 26
        }
      ]
    },
    {
      "cell_type": "code",
      "metadata": {
        "id": "jAaj_AHOv371",
        "colab_type": "code",
        "colab": {
          "base_uri": "https://localhost:8080/",
          "height": 34
        },
        "outputId": "a24e77da-97ef-40d4-e37d-05314d1b30cf"
      },
      "source": [
        "d1={\"name\":\"gitam\",\"email\":\"gitam@gmail.com\",\"address\":\"hyderabad\"}\n",
        "d1[\"email\"]=\"python@gmail.com\"\n",
        "print(d1)\n"
      ],
      "execution_count": 28,
      "outputs": [
        {
          "output_type": "stream",
          "text": [
            "{'name': 'gitam', 'email': 'python@gmail.com', 'address': 'hyderabad'}\n"
          ],
          "name": "stdout"
        }
      ]
    },
    {
      "cell_type": "code",
      "metadata": {
        "id": "oD_y5zvXxCWm",
        "colab_type": "code",
        "colab": {
          "base_uri": "https://localhost:8080/",
          "height": 34
        },
        "outputId": "2a3c470d-a6af-42bd-b36f-b5ce564a4243"
      },
      "source": [
        "d1[\"course\"]=\"python\"\n",
        "print(d1)"
      ],
      "execution_count": 29,
      "outputs": [
        {
          "output_type": "stream",
          "text": [
            "{'name': 'gitam', 'email': 'python@gmail.com', 'address': 'hyderabad', 'course': 'python'}\n"
          ],
          "name": "stdout"
        }
      ]
    },
    {
      "cell_type": "code",
      "metadata": {
        "id": "IzHhad9_xOf3",
        "colab_type": "code",
        "colab": {
          "base_uri": "https://localhost:8080/",
          "height": 34
        },
        "outputId": "d59addd6-c5d9-4897-9b62-e6678eb36f41"
      },
      "source": [
        "del d1[\"email\"]\n",
        "print(d1)"
      ],
      "execution_count": 30,
      "outputs": [
        {
          "output_type": "stream",
          "text": [
            "{'name': 'gitam', 'address': 'hyderabad', 'course': 'python'}\n"
          ],
          "name": "stdout"
        }
      ]
    },
    {
      "cell_type": "code",
      "metadata": {
        "id": "SBQAARkcxZVW",
        "colab_type": "code",
        "colab": {
          "base_uri": "https://localhost:8080/",
          "height": 34
        },
        "outputId": "ce101d40-0308-4102-a62b-650dd2b718d2"
      },
      "source": [
        "\n",
        "d1.values()"
      ],
      "execution_count": 32,
      "outputs": [
        {
          "output_type": "execute_result",
          "data": {
            "text/plain": [
              "dict_values(['gitam', 'hyderabad', 'python'])"
            ]
          },
          "metadata": {
            "tags": []
          },
          "execution_count": 32
        }
      ]
    },
    {
      "cell_type": "code",
      "metadata": {
        "id": "Banz62tjz-cT",
        "colab_type": "code",
        "colab": {
          "base_uri": "https://localhost:8080/",
          "height": 34
        },
        "outputId": "654aa0c8-7f98-4319-c01e-28d26f102489"
      },
      "source": [
        "d1.keys()"
      ],
      "execution_count": 33,
      "outputs": [
        {
          "output_type": "execute_result",
          "data": {
            "text/plain": [
              "dict_keys(['name', 'address', 'course'])"
            ]
          },
          "metadata": {
            "tags": []
          },
          "execution_count": 33
        }
      ]
    },
    {
      "cell_type": "code",
      "metadata": {
        "id": "lITxZnw-0JUH",
        "colab_type": "code",
        "colab": {
          "base_uri": "https://localhost:8080/",
          "height": 34
        },
        "outputId": "f9584b10-70a7-4a3d-f9bf-759e8f2434a9"
      },
      "source": [
        "d1.items()"
      ],
      "execution_count": 34,
      "outputs": [
        {
          "output_type": "execute_result",
          "data": {
            "text/plain": [
              "dict_items([('name', 'gitam'), ('address', 'hyderabad'), ('course', 'python')])"
            ]
          },
          "metadata": {
            "tags": []
          },
          "execution_count": 34
        }
      ]
    },
    {
      "cell_type": "code",
      "metadata": {
        "id": "qVk5Lmj60QU-",
        "colab_type": "code",
        "colab": {}
      },
      "source": [
        ""
      ],
      "execution_count": 0,
      "outputs": []
    },
    {
      "cell_type": "markdown",
      "metadata": {
        "id": "s9jU7yll0jE3",
        "colab_type": "text"
      },
      "source": [
        "#strings:"
      ]
    },
    {
      "cell_type": "code",
      "metadata": {
        "id": "eVRNrPBV0pPV",
        "colab_type": "code",
        "colab": {}
      },
      "source": [
        ""
      ],
      "execution_count": 0,
      "outputs": []
    },
    {
      "cell_type": "code",
      "metadata": {
        "id": "JCU0LG7E0qN-",
        "colab_type": "code",
        "colab": {
          "base_uri": "https://localhost:8080/",
          "height": 51
        },
        "outputId": "8bea8bda-7f1a-4168-ae7e-fb8df3ba9a36"
      },
      "source": [
        "s1=\"python\"\n",
        "print(s1)\n",
        "print(type(s1))"
      ],
      "execution_count": 36,
      "outputs": [
        {
          "output_type": "stream",
          "text": [
            "python\n",
            "<class 'str'>\n"
          ],
          "name": "stdout"
        }
      ]
    },
    {
      "cell_type": "code",
      "metadata": {
        "id": "YW-IaJIk0qMn",
        "colab_type": "code",
        "colab": {
          "base_uri": "https://localhost:8080/",
          "height": 102
        },
        "outputId": "b2b94d57-0ce9-43e6-90cd-c1384a907bbb"
      },
      "source": [
        "s1=\"python\"\n",
        "print(s1[0])\n",
        "print(s1[3])\n",
        "print(s1[2:])\n",
        "print(s1[::-1])\n",
        "print(s1[-1::-1])"
      ],
      "execution_count": 42,
      "outputs": [
        {
          "output_type": "stream",
          "text": [
            "p\n",
            "h\n",
            "thon\n",
            "nohtyp\n",
            "nohtyp\n"
          ],
          "name": "stdout"
        }
      ]
    },
    {
      "cell_type": "code",
      "metadata": {
        "id": "IHF5aOT91L_e",
        "colab_type": "code",
        "colab": {
          "base_uri": "https://localhost:8080/",
          "height": 51
        },
        "outputId": "beec3998-f9a9-439e-cf8a-51b496098c4f"
      },
      "source": [
        "s1=\"python\"\n",
        "print(s1[len(s1)//2])\n",
        "print(s1[0:6:3])"
      ],
      "execution_count": 45,
      "outputs": [
        {
          "output_type": "stream",
          "text": [
            "h\n",
            "ph\n"
          ],
          "name": "stdout"
        }
      ]
    },
    {
      "cell_type": "code",
      "metadata": {
        "id": "FdoN6apl2ATu",
        "colab_type": "code",
        "colab": {
          "base_uri": "https://localhost:8080/",
          "height": 34
        },
        "outputId": "20376882-aa17-4c19-bc38-ffc918fe4f36"
      },
      "source": [
        "#using function reverse of strion\n",
        "def reverseofstring(str):\n",
        "   return(str[::-1])\n",
        "reverseofstring(\"programming\")"
      ],
      "execution_count": 49,
      "outputs": [
        {
          "output_type": "execute_result",
          "data": {
            "text/plain": [
              "'gnimmargorp'"
            ]
          },
          "metadata": {
            "tags": []
          },
          "execution_count": 49
        }
      ]
    },
    {
      "cell_type": "code",
      "metadata": {
        "id": "uS5j8LY92_z4",
        "colab_type": "code",
        "colab": {
          "base_uri": "https://localhost:8080/",
          "height": 34
        },
        "outputId": "00b8781c-f7d1-46c3-f129-8f49b85cb205"
      },
      "source": [
        "#palindrome or not\n",
        "def palindrome(str):\n",
        "  str1=str[::-1]\n",
        "  if str==str1:\n",
        "    return \"palindrome\"\n",
        "  else:\n",
        "    return \"not a palindrome\"\n",
        "palindrome(\"lol\")\n",
        "\n",
        "\n"
      ],
      "execution_count": 53,
      "outputs": [
        {
          "output_type": "execute_result",
          "data": {
            "text/plain": [
              "'palindrome'"
            ]
          },
          "metadata": {
            "tags": []
          },
          "execution_count": 53
        }
      ]
    },
    {
      "cell_type": "markdown",
      "metadata": {
        "id": "-WheEUz563yN",
        "colab_type": "text"
      },
      "source": [
        "#string built-in-methods\n",
        "- upper( )\n",
        "- lower( )\n",
        "- islower( )\n",
        "- isupper( )\n",
        "- istitle( )\n",
        "- isnumeric( )\n",
        "- isalpha( )\n",
        "- isspace( )"
      ]
    },
    {
      "cell_type": "code",
      "metadata": {
        "id": "3RErWAjW7oPS",
        "colab_type": "code",
        "colab": {
          "base_uri": "https://localhost:8080/",
          "height": 153
        },
        "outputId": "36cdf5ca-87b2-4556-f8a0-d168d441bb1e"
      },
      "source": [
        "s1=\"python\"\n",
        "print(s1.upper())\n",
        "print(s1.lower())\n",
        "print(s1.isupper())\n",
        "print(s1.islower())\n",
        "print(s1.istitle())\n",
        "print(s1.isnumeric())\n",
        "print(s1.isalpha())\n",
        "print(s1.isspace())\n"
      ],
      "execution_count": 55,
      "outputs": [
        {
          "output_type": "stream",
          "text": [
            "PYTHON\n",
            "python\n",
            "False\n",
            "True\n",
            "False\n",
            "False\n",
            "True\n",
            "False\n"
          ],
          "name": "stdout"
        }
      ]
    },
    {
      "cell_type": "code",
      "metadata": {
        "id": "1ECyUbqh7oN6",
        "colab_type": "code",
        "colab": {
          "base_uri": "https://localhost:8080/",
          "height": 34
        },
        "outputId": "8aef3189-d765-4956-b6fd-47aaa771cc74"
      },
      "source": [
        "s1=\" \"\n",
        "print(s1.isspace())"
      ],
      "execution_count": 60,
      "outputs": [
        {
          "output_type": "stream",
          "text": [
            "True\n"
          ],
          "name": "stdout"
        }
      ]
    },
    {
      "cell_type": "code",
      "metadata": {
        "id": "jbr6dXoX_Rex",
        "colab_type": "code",
        "colab": {}
      },
      "source": [
        ""
      ],
      "execution_count": 0,
      "outputs": []
    },
    {
      "cell_type": "markdown",
      "metadata": {
        "id": "isqDRMoh_SjI",
        "colab_type": "text"
      },
      "source": [
        ""
      ]
    },
    {
      "cell_type": "markdown",
      "metadata": {
        "id": "GP7WcH0p_Smg",
        "colab_type": "text"
      },
      "source": [
        "#string methods\n",
        "- join( )\n",
        "- split( )\n",
        "- replace( )"
      ]
    },
    {
      "cell_type": "code",
      "metadata": {
        "id": "g6WJYVs1_RdC",
        "colab_type": "code",
        "colab": {}
      },
      "source": [
        ""
      ],
      "execution_count": 0,
      "outputs": []
    },
    {
      "cell_type": "code",
      "metadata": {
        "id": "Aka5dz4A_z9V",
        "colab_type": "code",
        "colab": {
          "base_uri": "https://localhost:8080/",
          "height": 34
        },
        "outputId": "20fd8eda-0163-4b4f-d599-d61a0b7266f9"
      },
      "source": [
        "s1=\"python\"\n",
        "print(\" \".join(s1))"
      ],
      "execution_count": 61,
      "outputs": [
        {
          "output_type": "stream",
          "text": [
            "p y t h o n\n"
          ],
          "name": "stdout"
        }
      ]
    },
    {
      "cell_type": "code",
      "metadata": {
        "id": "eRiWhC7V_z8B",
        "colab_type": "code",
        "colab": {
          "base_uri": "https://localhost:8080/",
          "height": 34
        },
        "outputId": "ffa3c88c-fa8a-4ce2-ef37-a4d65d2da02c"
      },
      "source": [
        "s1=\"python is easy to learn\"\n",
        "print(\",\".join(s1))"
      ],
      "execution_count": 62,
      "outputs": [
        {
          "output_type": "stream",
          "text": [
            "p,y,t,h,o,n, ,i,s, ,e,a,s,y, ,t,o, ,l,e,a,r,n\n"
          ],
          "name": "stdout"
        }
      ]
    },
    {
      "cell_type": "code",
      "metadata": {
        "id": "6r7-hIva_z6d",
        "colab_type": "code",
        "colab": {
          "base_uri": "https://localhost:8080/",
          "height": 51
        },
        "outputId": "26d15a94-fd87-4b64-d2c1-b62ec22de1d0"
      },
      "source": [
        "s1=\"python is easy to learn\"\n",
        "print(s1.split())\n",
        "print(s1.split('a'))"
      ],
      "execution_count": 65,
      "outputs": [
        {
          "output_type": "stream",
          "text": [
            "['python', 'is', 'easy', 'to', 'learn']\n",
            "['python is e', 'sy to le', 'rn']\n"
          ],
          "name": "stdout"
        }
      ]
    },
    {
      "cell_type": "code",
      "metadata": {
        "id": "363udtrGAU9S",
        "colab_type": "code",
        "colab": {
          "base_uri": "https://localhost:8080/",
          "height": 34
        },
        "outputId": "c744e137-2ea7-48d9-9e39-9586310d9aa6"
      },
      "source": [
        "s1=\"python is easy to learn\"\n",
        "li=list(s1)\n",
        "print(li)"
      ],
      "execution_count": 68,
      "outputs": [
        {
          "output_type": "stream",
          "text": [
            "['p', 'y', 't', 'h', 'o', 'n', ' ', 'i', 's', ' ', 'e', 'a', 's', 'y', ' ', 't', 'o', ' ', 'l', 'e', 'a', 'r', 'n']\n"
          ],
          "name": "stdout"
        }
      ]
    },
    {
      "cell_type": "code",
      "metadata": {
        "id": "yw38_dX2A9fm",
        "colab_type": "code",
        "colab": {
          "base_uri": "https://localhost:8080/",
          "height": 34
        },
        "outputId": "a1367895-f3cc-4a98-9493-d2a1790997d7"
      },
      "source": [
        "s1=\"python is easy to learn\"\n",
        "print(s1.replace(\"easy\",\"very easy\"))"
      ],
      "execution_count": 69,
      "outputs": [
        {
          "output_type": "stream",
          "text": [
            "python is very easy to learn\n"
          ],
          "name": "stdout"
        }
      ]
    },
    {
      "cell_type": "code",
      "metadata": {
        "id": "gk8zd1CzBoD2",
        "colab_type": "code",
        "colab": {
          "base_uri": "https://localhost:8080/",
          "height": 34
        },
        "outputId": "9f48a7da-616a-46a7-839a-b74b4779d71a"
      },
      "source": [
        "marks={'peter' :[80,85,90], 'joe' :[86,90,95]}\n",
        "marks[\"peter\"]\n"
      ],
      "execution_count": 79,
      "outputs": [
        {
          "output_type": "execute_result",
          "data": {
            "text/plain": [
              "[80, 85, 90]"
            ]
          },
          "metadata": {
            "tags": []
          },
          "execution_count": 79
        }
      ]
    },
    {
      "cell_type": "code",
      "metadata": {
        "id": "Y-K9TD2ZDqeL",
        "colab_type": "code",
        "colab": {
          "base_uri": "https://localhost:8080/",
          "height": 34
        },
        "outputId": "fe99d35c-2921-4b76-9cb2-eae1370f65e5"
      },
      "source": [
        "marks={'peter' :[80,85,90], 'joe' :[86,90,95]}\n",
        "li=marks[\"peter\"]\n",
        "print(li[1])"
      ],
      "execution_count": 80,
      "outputs": [
        {
          "output_type": "stream",
          "text": [
            "85\n"
          ],
          "name": "stdout"
        }
      ]
    },
    {
      "cell_type": "code",
      "metadata": {
        "id": "cfrAKdPoFRX1",
        "colab_type": "code",
        "colab": {
          "base_uri": "https://localhost:8080/",
          "height": 34
        },
        "outputId": "ee92a007-26d5-4220-d1f6-3734e5b8379c"
      },
      "source": [
        "marks={'peter' :[80,85,90], 'joe' :[86,90,95]}\n",
        "li=marks[\"joe\"]\n",
        "print(li[0])"
      ],
      "execution_count": 82,
      "outputs": [
        {
          "output_type": "stream",
          "text": [
            "86\n"
          ],
          "name": "stdout"
        }
      ]
    },
    {
      "cell_type": "code",
      "metadata": {
        "id": "uchwn1J4FXf-",
        "colab_type": "code",
        "colab": {
          "base_uri": "https://localhost:8080/",
          "height": 34
        },
        "outputId": "603a682f-e9e3-4db5-b7f1-82176b739014"
      },
      "source": [
        "marks={'peter' :[80,85,90], 'joe' :[86,90,95]}\n",
        "li=marks[\"joe\"]\n",
        "print(li[::-1])"
      ],
      "execution_count": 83,
      "outputs": [
        {
          "output_type": "stream",
          "text": [
            "[95, 90, 86]\n"
          ],
          "name": "stdout"
        }
      ]
    },
    {
      "cell_type": "code",
      "metadata": {
        "id": "q89aeMW1FhY2",
        "colab_type": "code",
        "colab": {
          "base_uri": "https://localhost:8080/",
          "height": 34
        },
        "outputId": "13e9a030-bf5c-482e-ce0f-85177d871e16"
      },
      "source": [
        "marks={'peter' :{'math':1,'english':2},'joe' :[86,90,95]}\n",
        "l1=marks[\"peter\"]\n",
        "l2=l1[\"english\"]\n",
        "print(l2)"
      ],
      "execution_count": 86,
      "outputs": [
        {
          "output_type": "stream",
          "text": [
            "2\n"
          ],
          "name": "stdout"
        }
      ]
    },
    {
      "cell_type": "code",
      "metadata": {
        "id": "xmc6-3eeGiW2",
        "colab_type": "code",
        "colab": {}
      },
      "source": [
        ""
      ],
      "execution_count": 0,
      "outputs": []
    }
  ]
}