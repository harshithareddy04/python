{
  "nbformat": 4,
  "nbformat_minor": 0,
  "metadata": {
    "colab": {
      "name": "28-12-19.ipynb",
      "provenance": [],
      "include_colab_link": true
    },
    "kernelspec": {
      "name": "python3",
      "display_name": "Python 3"
    }
  },
  "cells": [
    {
      "cell_type": "markdown",
      "metadata": {
        "id": "view-in-github",
        "colab_type": "text"
      },
      "source": [
        "<a href=\"https://colab.research.google.com/github/harshithareddy04/python/blob/master/28_12_19.ipynb\" target=\"_parent\"><img src=\"https://colab.research.google.com/assets/colab-badge.svg\" alt=\"Open In Colab\"/></a>"
      ]
    },
    {
      "cell_type": "code",
      "metadata": {
        "id": "xxg1qFAvqb1v",
        "colab_type": "code",
        "colab": {
          "base_uri": "https://localhost:8080/",
          "height": 34
        },
        "outputId": "6a2c3cf0-3ba9-4a72-8181-1d04854a3ac8"
      },
      "source": [
        "def sample(str):\n",
        "  str1=str[0:len(str):2]\n",
        "  li=list(str1)\n",
        "  return li\n",
        "sample(\"pynative\")"
      ],
      "execution_count": 17,
      "outputs": [
        {
          "output_type": "execute_result",
          "data": {
            "text/plain": [
              "['p', 'n', 't', 'v']"
            ]
          },
          "metadata": {
            "tags": []
          },
          "execution_count": 17
        }
      ]
    },
    {
      "cell_type": "code",
      "metadata": {
        "id": "FsnWYdWZtLTY",
        "colab_type": "code",
        "colab": {
          "base_uri": "https://localhost:8080/",
          "height": 34
        },
        "outputId": "02c7a22d-7684-43dd-e020-ec345aa479bd"
      },
      "source": [
        "def integer(a):\n",
        "   if a[0] == a[-1]:\n",
        "     return True\n",
        "   else:\n",
        "     return False\n",
        "integer([2,3,5,6,7,1])\n",
        "\n"
      ],
      "execution_count": 20,
      "outputs": [
        {
          "output_type": "execute_result",
          "data": {
            "text/plain": [
              "False"
            ]
          },
          "metadata": {
            "tags": []
          },
          "execution_count": 20
        }
      ]
    },
    {
      "cell_type": "code",
      "metadata": {
        "id": "EpCVxGV3xopc",
        "colab_type": "code",
        "colab": {
          "base_uri": "https://localhost:8080/",
          "height": 102
        },
        "outputId": "892023f7-e696-41de-b573-75af20837990"
      },
      "source": [
        "i=1\n",
        "n=5\n",
        "for i in range(1,6):\n",
        "    for j in range(0,i):\n",
        "      print(i,end=\" \")\n",
        "    print(\"\\r\")   "
      ],
      "execution_count": 2,
      "outputs": [
        {
          "output_type": "stream",
          "text": [
            "1 \r\n",
            "2 2 \r\n",
            "3 3 3 \r\n",
            "4 4 4 4 \r\n",
            "5 5 5 5 5 \r\n"
          ],
          "name": "stdout"
        }
      ]
    },
    {
      "cell_type": "code",
      "metadata": {
        "id": "7tXDjQfF0zF7",
        "colab_type": "code",
        "colab": {
          "base_uri": "https://localhost:8080/",
          "height": 85
        },
        "outputId": "7a1594c0-e6f0-4c0d-b972-5994523d2634"
      },
      "source": [
        "def input(str,n,y):\n",
        "  x=100-n\n",
        "  z=x+y\n",
        "  print(str)\n",
        "  print(n)\n",
        "  print(y)\n",
        "  print(z)\n",
        "input(\"harshita\",20,2019)"
      ],
      "execution_count": 5,
      "outputs": [
        {
          "output_type": "stream",
          "text": [
            "harshita\n",
            "20\n",
            "2019\n",
            "2099\n"
          ],
          "name": "stdout"
        }
      ]
    },
    {
      "cell_type": "code",
      "metadata": {
        "id": "JvJBZIBp2I-f",
        "colab_type": "code",
        "colab": {}
      },
      "source": [
        ""
      ],
      "execution_count": 0,
      "outputs": []
    }
  ]
}